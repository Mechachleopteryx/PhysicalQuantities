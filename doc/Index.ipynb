{
 "metadata": {
  "name": "",
  "signature": "sha256:3962081ee7d467335e8553d08f952bcff725dcbfaa3d078d4b97a5b4b170fced"
 },
 "nbformat": 3,
 "nbformat_minor": 0,
 "worksheets": [
  {
   "cells": [
    {
     "cell_type": "heading",
     "level": 1,
     "metadata": {},
     "source": [
      "Physical Quantities"
     ]
    },
    {
     "cell_type": "markdown",
     "metadata": {},
     "source": [
      "PhysicalQuantities is a python module that allows calculations to be aware of physical units. Built-in unit conversion ensures that calculations will result in the correct unit.\n",
      "\n",
      "The module also contains an extension for IPython. This allows much simplified usage by typing in physical quantities as number and unit.\n",
      "\n",
      "The Github repository for this module can be found here: https://github.com/juhasch/PhysicalQuantities\n",
      "\n",
      "This module is based on the IPython extension by Georg Brandl: https://bitbucket.org/birkenfeld/ipython-physics.\n",
      "It was converted into a standalone Python module and extended heavily to be as flexible as possible."
     ]
    },
    {
     "cell_type": "heading",
     "level": 2,
     "metadata": {},
     "source": [
      "Example Notebooks"
     ]
    },
    {
     "cell_type": "markdown",
     "metadata": {},
     "source": [
      "* [Basics](pq-basics.ipynb)\n",
      "* [IPython Extension](pq-ipython.ipynb)\n",
      "* [dB Calculations](pq-dbunits.ipynb)\n",
      "* [Numpy](pq-numpy.ipynb)\n",
      "* [Uncertainties](pq-dbunits.ipynb)"
     ]
    },
    {
     "cell_type": "code",
     "collapsed": false,
     "input": [],
     "language": "python",
     "metadata": {},
     "outputs": []
    }
   ],
   "metadata": {}
  }
 ]
}