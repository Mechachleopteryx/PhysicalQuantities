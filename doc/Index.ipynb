{
 "metadata": {
  "name": "",
  "signature": "sha256:7bb295f2da9e58ec97279af2eb7dc2072febfca3a583aa5ecfa83d0932518212"
 },
 "nbformat": 3,
 "nbformat_minor": 0,
 "worksheets": [
  {
   "cells": [
    {
     "cell_type": "heading",
     "level": 1,
     "metadata": {},
     "source": [
      "Physical Quantities"
     ]
    },
    {
     "cell_type": "markdown",
     "metadata": {},
     "source": [
      "PhysicalQuantities is a python module that allows calculations to be aware of physical units. Built-in unit conversion ensures that calculations will result in the correct unit.\n",
      "\n",
      "The module also contains an extension for IPython. This allows much simplified usage by typing in physical quantities as number and unit:"
     ]
    },
    {
     "cell_type": "code",
     "collapsed": false,
     "input": [
      "a = 1m ; b = 1s\n",
      "print(\"a=\", a, \", b=\",b,\", a/b=\", a/b)"
     ],
     "language": "python",
     "metadata": {
      "run_control": {
       "breakpoint": false
      }
     },
     "outputs": [
      {
       "output_type": "stream",
       "stream": "stdout",
       "text": [
        "a= 1 m , b= 1 s , a/b= 1.0 m/s\n"
       ]
      }
     ],
     "prompt_number": 7
    },
    {
     "cell_type": "markdown",
     "metadata": {},
     "source": [
      "The Github repository for this module can be found here: https://github.com/juhasch/PhysicalQuantities\n",
      "\n",
      "This module is based on the IPython extension by Georg Brandl: https://bitbucket.org/birkenfeld/ipython-physics.\n",
      "It was converted into a standalone Python module and extended heavily to be as flexible as possible."
     ]
    },
    {
     "cell_type": "heading",
     "level": 2,
     "metadata": {},
     "source": [
      "Example Notebooks"
     ]
    },
    {
     "cell_type": "markdown",
     "metadata": {},
     "source": [
      "* [Basics and Installation](pq-basics.ipynb)\n",
      "* [Using the IPython Extension](pq-ipython.ipynb)\n",
      "* [Doing dB Calculations](pq-dbunits.ipynb)\n",
      "* [Using Numpy Arrays](pq-numpy.ipynb)\n",
      "* [Practical Example - Calculate a RC Circuit](pq-example.ipynb)"
     ]
    },
    {
     "cell_type": "code",
     "collapsed": false,
     "input": [],
     "language": "python",
     "metadata": {
      "run_control": {
       "breakpoint": false
      }
     },
     "outputs": []
    }
   ],
   "metadata": {}
  }
 ]
}