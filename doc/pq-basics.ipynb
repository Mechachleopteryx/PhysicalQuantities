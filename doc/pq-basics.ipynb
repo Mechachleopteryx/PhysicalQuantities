{
 "metadata": {
  "name": "",
  "signature": "sha256:94c7a8c1149b9d590ad71c5f1f58fc1a9721cc69ab47f306beac684387c72bf3"
 },
 "nbformat": 3,
 "nbformat_minor": 0,
 "worksheets": [
  {
   "cells": [
    {
     "cell_type": "markdown",
     "metadata": {},
     "source": [
      "Back to [Index](index.ipynb)"
     ]
    },
    {
     "cell_type": "heading",
     "level": 1,
     "metadata": {},
     "source": [
      "PhysicalQuantities - Basics"
     ]
    },
    {
     "cell_type": "heading",
     "level": 2,
     "metadata": {},
     "source": [
      "Installation"
     ]
    },
    {
     "cell_type": "markdown",
     "metadata": {},
     "source": [
      "The PhysicalQuantities module can be installed like any other Python module:\n",
      "\n",
      "`python setup.py install`"
     ]
    },
    {
     "cell_type": "heading",
     "level": 2,
     "metadata": {},
     "source": [
      "Loading the Python Module"
     ]
    },
    {
     "cell_type": "code",
     "collapsed": false,
     "input": [
      "import PhysicalQuantities as pq"
     ],
     "language": "python",
     "metadata": {},
     "outputs": [],
     "prompt_number": 1
    },
    {
     "cell_type": "markdown",
     "metadata": {},
     "source": [
      "You can now define physical quantities using the `PhysicalQuantity(value, unit)` constructor:"
     ]
    },
    {
     "cell_type": "code",
     "collapsed": false,
     "input": [
      "g = pq.PhysicalQuantity(1.1, 'm')"
     ],
     "language": "python",
     "metadata": {},
     "outputs": [],
     "prompt_number": 2
    },
    {
     "cell_type": "markdown",
     "metadata": {},
     "source": [
      "or as the shortcut `Q()`:"
     ]
    },
    {
     "cell_type": "code",
     "collapsed": false,
     "input": [
      "g = pq.Q(1.1, 'm')"
     ],
     "language": "python",
     "metadata": {},
     "outputs": [],
     "prompt_number": 3
    },
    {
     "cell_type": "markdown",
     "metadata": {},
     "source": [
      "This creates a new `PhysicalQuantity` object:"
     ]
    },
    {
     "cell_type": "code",
     "collapsed": false,
     "input": [
      "print(\"object: %s\" % g)\n",
      "print(\"object type : %s\" % type(g))"
     ],
     "language": "python",
     "metadata": {},
     "outputs": [
      {
       "output_type": "stream",
       "stream": "stdout",
       "text": [
        "object: 1.1 m\n",
        "object type : <class 'PhysicalQuantities.Quantity.PhysicalQuantity'>\n"
       ]
      }
     ],
     "prompt_number": 4
    },
    {
     "cell_type": "markdown",
     "metadata": {},
     "source": [
      "The value and unit are stored as attributes of the class:"
     ]
    },
    {
     "cell_type": "code",
     "collapsed": false,
     "input": [
      "print(\"value: %s\" % g.value)\n",
      "print(\"value type: %s\" % type(g.value))\n",
      "print(\"unit: %s\" % g.unit)\n",
      "print(\"unit type: %s\" % type(g.unit))"
     ],
     "language": "python",
     "metadata": {},
     "outputs": [
      {
       "output_type": "stream",
       "stream": "stdout",
       "text": [
        "value: 1.1\n",
        "value type: <class 'float'>\n",
        "unit: m\n",
        "unit type: <class 'PhysicalQuantities.Unit.PhysicalUnit'>\n"
       ]
      }
     ],
     "prompt_number": 5
    },
    {
     "cell_type": "markdown",
     "metadata": {},
     "source": []
    },
    {
     "cell_type": "code",
     "collapsed": false,
     "input": [
      "print(g)\n",
      "print(g.to('mm'))\n",
      "print(g.base)"
     ],
     "language": "python",
     "metadata": {},
     "outputs": [
      {
       "output_type": "stream",
       "stream": "stdout",
       "text": [
        "1.1 m\n",
        "1100.0 mm\n",
        "1.1 m\n"
       ]
      }
     ],
     "prompt_number": 6
    },
    {
     "cell_type": "markdown",
     "metadata": {},
     "source": [
      "Scaling of simple units is easy using scaling attributes:"
     ]
    },
    {
     "cell_type": "code",
     "collapsed": false,
     "input": [
      "print(g.nm)\n",
      "print(g.mum)\n",
      "print(g.mm)\n",
      "print(g.cm)\n",
      "print(g.dm)\n",
      "print(g.m)\n",
      "print(g.km)"
     ],
     "language": "python",
     "metadata": {},
     "outputs": [
      {
       "output_type": "stream",
       "stream": "stdout",
       "text": [
        "1100000000.0 nm\n",
        "1100000.0 \u00b5m\n",
        "1100.0 mm\n",
        "110.00000000000001 cm\n",
        "11.0 dm\n",
        "1.1 m\n",
        "0.0011 km\n"
       ]
      }
     ],
     "prompt_number": 7
    },
    {
     "cell_type": "markdown",
     "metadata": {},
     "source": [
      "The physical quantity can converted back to a unitless value using the underscore `_` with the scaling attribute:"
     ]
    },
    {
     "cell_type": "code",
     "collapsed": false,
     "input": [
      "print(g.nm_)\n",
      "print(g.mum_)\n",
      "print(g.mm_)\n",
      "print(g.cm_)\n",
      "print(g.dm_)\n",
      "print(g.m_)\n",
      "print(g.km_)"
     ],
     "language": "python",
     "metadata": {},
     "outputs": [
      {
       "output_type": "stream",
       "stream": "stdout",
       "text": [
        "1100000000.0\n",
        "1100000.0\n",
        "1100.0\n",
        "110.00000000000001\n",
        "11.0\n",
        "1.1\n",
        "0.0011\n"
       ]
      }
     ],
     "prompt_number": 8
    },
    {
     "cell_type": "code",
     "collapsed": false,
     "input": [],
     "language": "python",
     "metadata": {},
     "outputs": [],
     "prompt_number": 8
    },
    {
     "cell_type": "code",
     "collapsed": false,
     "input": [],
     "language": "python",
     "metadata": {},
     "outputs": []
    },
    {
     "cell_type": "code",
     "collapsed": false,
     "input": [],
     "language": "python",
     "metadata": {},
     "outputs": [],
     "prompt_number": 8
    },
    {
     "cell_type": "code",
     "collapsed": false,
     "input": [],
     "language": "python",
     "metadata": {},
     "outputs": []
    }
   ],
   "metadata": {}
  }
 ]
}