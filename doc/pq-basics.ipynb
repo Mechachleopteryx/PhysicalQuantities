{
 "metadata": {
  "name": "",
  "signature": "sha256:2863502e968c2a598804aab0b85254cf722177d016dc289a47eafc9eddfa5e8b"
 },
 "nbformat": 3,
 "nbformat_minor": 0,
 "worksheets": [
  {
   "cells": [
    {
     "cell_type": "markdown",
     "metadata": {},
     "source": [
      "Back to [Index](Index.ipynb)"
     ]
    },
    {
     "cell_type": "heading",
     "level": 1,
     "metadata": {},
     "source": [
      "PhysicalQuantities - Basics"
     ]
    },
    {
     "cell_type": "heading",
     "level": 2,
     "metadata": {},
     "source": [
      "Installation"
     ]
    },
    {
     "cell_type": "markdown",
     "metadata": {},
     "source": [
      "The PhysicalQuantities module can be installed like any other Python module:\n",
      " 1. Download package from https://github.com/ipython-contrib/IPython-notebook-extensions/archive/master.zip\n",
      " 2. Unzpip\n",
      " 3. Install package using `python setup.py install`"
     ]
    },
    {
     "cell_type": "markdown",
     "metadata": {},
     "source": [
      "This document describes the basic use and some internals of the Python module.\n",
      "If you are using IPython or the IPython notebook, you might want to read the other example notebooks first."
     ]
    },
    {
     "cell_type": "heading",
     "level": 2,
     "metadata": {},
     "source": [
      "Loading the Python Module"
     ]
    },
    {
     "cell_type": "code",
     "collapsed": false,
     "input": [
      "import PhysicalQuantities as pq"
     ],
     "language": "python",
     "metadata": {},
     "outputs": [],
     "prompt_number": 1
    },
    {
     "cell_type": "markdown",
     "metadata": {},
     "source": [
      "You can now define physical quantities using the `PhysicalQuantity(value, unit)` constructor:"
     ]
    },
    {
     "cell_type": "code",
     "collapsed": false,
     "input": [
      "g = pq.PhysicalQuantity(1.1, 'm')"
     ],
     "language": "python",
     "metadata": {},
     "outputs": [],
     "prompt_number": 2
    },
    {
     "cell_type": "markdown",
     "metadata": {},
     "source": [
      "or as the shortcut `Q()`:"
     ]
    },
    {
     "cell_type": "code",
     "collapsed": false,
     "input": [
      "g = pq.Q(1.1, 'm')"
     ],
     "language": "python",
     "metadata": {},
     "outputs": [],
     "prompt_number": 3
    },
    {
     "cell_type": "markdown",
     "metadata": {},
     "source": [
      "This creates a new `PhysicalQuantity` object:"
     ]
    },
    {
     "cell_type": "code",
     "collapsed": false,
     "input": [
      "print(\"object: %s\" % g)\n",
      "print(\"object type : %s\" % type(g))"
     ],
     "language": "python",
     "metadata": {},
     "outputs": [
      {
       "output_type": "stream",
       "stream": "stdout",
       "text": [
        "object: 1.1 m\n",
        "object type : <class 'PhysicalQuantities.Quantity.PhysicalQuantity'>\n"
       ]
      }
     ],
     "prompt_number": 4
    },
    {
     "cell_type": "markdown",
     "metadata": {},
     "source": [
      "The value and unit are stored as attributes of the class:"
     ]
    },
    {
     "cell_type": "code",
     "collapsed": false,
     "input": [
      "print(\"value: %s\" % g.value)\n",
      "print(\"value type: %s\" % type(g.value))\n",
      "print(\"unit: %s\" % g.unit)\n",
      "print(\"unit type: %s\" % type(g.unit))"
     ],
     "language": "python",
     "metadata": {},
     "outputs": [
      {
       "output_type": "stream",
       "stream": "stdout",
       "text": [
        "value: 1.1\n",
        "value type: <class 'float'>\n",
        "unit: m\n",
        "unit type: <class 'PhysicalQuantities.Unit.PhysicalUnit'>\n"
       ]
      }
     ],
     "prompt_number": 5
    },
    {
     "cell_type": "markdown",
     "metadata": {},
     "source": [
      "Using `.to()` let's you convert to other representations of the unit. This can be used for scaling or to express the quantity in a derived unit. The `.base` property will convert "
     ]
    },
    {
     "cell_type": "code",
     "collapsed": false,
     "input": [
      "g = pq.PhysicalQuantity(1.1, 'm')\n",
      "print(\"g = %s\" % g)\n",
      "print(\"g in mm = %s\" %g.to('mm'))\n",
      "x = pq.PhysicalQuantity(2, 'm*kg/s**2')\n",
      "print(\"x = %s\" %x)\n",
      "print(\"x in N = %s\" % x.to('N'))\n",
      "u = 1 V\n",
      "print(\"u = %s\" %u)\n",
      "print(\"u in base units = %s\" %u.base)"
     ],
     "language": "python",
     "metadata": {},
     "outputs": [
      {
       "output_type": "stream",
       "stream": "stdout",
       "text": [
        "g = 1.1 m\n",
        "g in mm = 1100.0 mm\n",
        "x = 2 m*kg/s^2\n",
        "x in N = 2.0 N\n",
        "u = 1 V\n",
        "u in base units = 1.0 kg*m^2/A/s^3\n"
       ]
      }
     ],
     "prompt_number": 16
    },
    {
     "cell_type": "markdown",
     "metadata": {},
     "source": [
      "Scaling of simple units is easy using scaling attributes:"
     ]
    },
    {
     "cell_type": "code",
     "collapsed": false,
     "input": [
      "print(g.nm)\n",
      "print(g.mum)\n",
      "print(g.mm)\n",
      "print(g.cm)\n",
      "print(g.dm)\n",
      "print(g.m)\n",
      "print(g.km)"
     ],
     "language": "python",
     "metadata": {},
     "outputs": [
      {
       "output_type": "stream",
       "stream": "stdout",
       "text": [
        "1100000000.0 nm\n",
        "1100000.0 \u00b5m\n",
        "1100.0 mm\n",
        "110.00000000000001 cm\n",
        "11.0 dm\n",
        "1.1 m\n",
        "0.0011 km\n"
       ]
      }
     ],
     "prompt_number": 7
    },
    {
     "cell_type": "markdown",
     "metadata": {},
     "source": [
      "The physical quantity can converted back to a unitless value using the underscore `_` with the scaling attribute:"
     ]
    },
    {
     "cell_type": "code",
     "collapsed": false,
     "input": [
      "print(g.nm_)\n",
      "print(g.mum_)\n",
      "print(g.mm_)\n",
      "print(g.cm_)\n",
      "print(g.dm_)\n",
      "print(g.m_)\n",
      "print(g.km_)"
     ],
     "language": "python",
     "metadata": {},
     "outputs": [
      {
       "output_type": "stream",
       "stream": "stdout",
       "text": [
        "1100000000.0\n",
        "1100000.0\n",
        "1100.0\n",
        "110.00000000000001\n",
        "11.0\n",
        "1.1\n",
        "0.0011\n"
       ]
      }
     ],
     "prompt_number": 8
    },
    {
     "cell_type": "heading",
     "level": 2,
     "metadata": {},
     "source": [
      "Internal Representation"
     ]
    },
    {
     "cell_type": "markdown",
     "metadata": {},
     "source": [
      "Internally, a physical quantity is represented using two classes:\n",
      " * `PhysicalQuantity` holding the value and the unit\n",
      " * `PhysicalUnit` describing the unit"
     ]
    },
    {
     "cell_type": "code",
     "collapsed": false,
     "input": [
      "a = pq.Q([1,2,3], 'm**2*s**3/A**2/kg')\n",
      "a.value"
     ],
     "language": "python",
     "metadata": {},
     "outputs": [
      {
       "metadata": {},
       "output_type": "pyout",
       "prompt_number": 28,
       "text": [
        "[1, 2, 3]"
       ]
      }
     ],
     "prompt_number": 28
    },
    {
     "cell_type": "markdown",
     "metadata": {},
     "source": [
      "The `value` attribute is basically only a container, allowing different types of values. Tested types are:\n",
      " * integers\n",
      " * floats\n",
      " * complex numbers\n",
      " * uncertainties\n",
      " * numpy arrays\n",
      " * lists"
     ]
    },
    {
     "cell_type": "code",
     "collapsed": false,
     "input": [
      "a.unit"
     ],
     "language": "python",
     "metadata": {},
     "outputs": [
      {
       "latex": [
        "$m^2 \\cdot s^3/kg/A^2$ "
       ],
       "metadata": {},
       "output_type": "pyout",
       "prompt_number": 15,
       "text": [
        "<PhysicalUnit m**2*s**3/kg/A**2>"
       ]
      }
     ],
     "prompt_number": 15
    },
    {
     "cell_type": "code",
     "collapsed": false,
     "input": [
      "type(a.unit)"
     ],
     "language": "python",
     "metadata": {
      "run_control": {
       "breakpoint": false
      }
     },
     "outputs": [
      {
       "metadata": {},
       "output_type": "pyout",
       "prompt_number": 16,
       "text": [
        "PhysicalQuantities.Unit.PhysicalUnit"
       ]
      }
     ],
     "prompt_number": 16
    },
    {
     "cell_type": "markdown",
     "metadata": {},
     "source": [
      "The unit is stored in a `PhysicalUnit` class. This class has a number of attributes:\n",
      " * `factor` - scaling factor from base units\n",
      " * `powers` - list of base units contained in unit\n",
      " * `prefixed` - unit is a scaled version of a base unit"
     ]
    },
    {
     "cell_type": "code",
     "collapsed": false,
     "input": [
      "pq.Q(1,'mm').unit.factor, pq.Q(1,'mm').unit.prefixed"
     ],
     "language": "python",
     "metadata": {},
     "outputs": [
      {
       "metadata": {},
       "output_type": "pyout",
       "prompt_number": 26,
       "text": [
        "(0.001, True)"
       ]
      }
     ],
     "prompt_number": 26
    },
    {
     "cell_type": "code",
     "collapsed": false,
     "input": [
      "print(pq.base_names) # list of base units\n",
      "print(a.unit.powers)\n",
      "print(a.unit)"
     ],
     "language": "python",
     "metadata": {
      "run_control": {
       "breakpoint": false
      }
     },
     "outputs": [
      {
       "output_type": "stream",
       "stream": "stdout",
       "text": [
        "['m', 'kg', 's', 'A', 'K', 'mol', 'cd', 'rad', 'sr']\n",
        "[2, -1, 3, -2, 0, 0, 0, 0, 0]\n",
        "m^2*s^3/kg/A^2\n"
       ]
      }
     ],
     "prompt_number": 22
    },
    {
     "cell_type": "code",
     "collapsed": false,
     "input": [],
     "language": "python",
     "metadata": {
      "run_control": {
       "breakpoint": false
      }
     },
     "outputs": []
    }
   ],
   "metadata": {}
  }
 ]
}