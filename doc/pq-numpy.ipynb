{
 "metadata": {
  "name": "",
  "signature": "sha256:ca27840f6254263f8f1442090d58c2ac6937378d301f600883ad3da28ed44810"
 },
 "nbformat": 3,
 "nbformat_minor": 0,
 "worksheets": [
  {
   "cells": [
    {
     "cell_type": "heading",
     "level": 1,
     "metadata": {},
     "source": [
      "PhysicalQuantities and Numpy"
     ]
    },
    {
     "cell_type": "markdown",
     "metadata": {},
     "source": [
      "Units can be mixed with numpy arrays:"
     ]
    },
    {
     "cell_type": "code",
     "collapsed": false,
     "input": [
      "t = np.arange(10) * 1 s\n",
      "print(t)"
     ],
     "language": "python",
     "metadata": {},
     "outputs": [
      {
       "output_type": "stream",
       "stream": "stdout",
       "text": [
        "[0 1 2 3 4 5 6 7 8 9] s\n"
       ]
      }
     ],
     "prompt_number": 1
    },
    {
     "cell_type": "markdown",
     "metadata": {},
     "source": [
      "Array indexing and slicing is supported:"
     ]
    },
    {
     "cell_type": "code",
     "collapsed": false,
     "input": [
      "print(t[1:4])\n",
      "a = np.random.rand(3,4) * 1 m\n",
      "print(a)\n",
      "print(a[2][3])"
     ],
     "language": "python",
     "metadata": {},
     "outputs": [
      {
       "output_type": "stream",
       "stream": "stdout",
       "text": [
        "[1 2 3] s\n",
        "[[ 0.17235413  0.76589396  0.02923949  0.21842296]\n",
        " [ 0.55851583  0.84650946  0.23492611  0.81125278]\n",
        " [ 0.67925199  0.13495827  0.03869305  0.46923225]] m\n",
        "0.469232252884 m\n"
       ]
      }
     ],
     "prompt_number": 2
    },
    {
     "cell_type": "markdown",
     "metadata": {},
     "source": [
      "Prefixing units is also possible like for single values:"
     ]
    },
    {
     "cell_type": "code",
     "collapsed": false,
     "input": [
      "print(t.ms)\n",
      "print(t.ms_)"
     ],
     "language": "python",
     "metadata": {},
     "outputs": [
      {
       "output_type": "stream",
       "stream": "stdout",
       "text": [
        "[    0.  1000.  2000.  3000.  4000.  5000.  6000.  7000.  8000.  9000.] ms\n",
        "[    0.  1000.  2000.  3000.  4000.  5000.  6000.  7000.  8000.  9000.]\n"
       ]
      }
     ],
     "prompt_number": 12
    },
    {
     "cell_type": "markdown",
     "metadata": {},
     "source": [
      "A more practical example:"
     ]
    },
    {
     "cell_type": "code",
     "collapsed": false,
     "input": [
      "t = linspace(0,10, 10) * 1 ms\n",
      "f = 100 Hz\n",
      "u = np.sin(2*np.pi*f*t) * 1 V\n",
      "t,u"
     ],
     "language": "python",
     "metadata": {},
     "outputs": [
      {
       "metadata": {},
       "output_type": "pyout",
       "prompt_number": 15,
       "text": [
        "([  0.           1.11111111   2.22222222   3.33333333   4.44444444\n",
        "    5.55555556   6.66666667   7.77777778   8.88888889  10.        ] ms,\n",
        " [  0.00000000e+00   6.42787610e-01   9.84807753e-01   8.66025404e-01\n",
        "    3.42020143e-01  -3.42020143e-01  -8.66025404e-01  -9.84807753e-01\n",
        "   -6.42787610e-01   6.43249060e-16] V)"
       ]
      }
     ],
     "prompt_number": 15
    },
    {
     "cell_type": "code",
     "collapsed": false,
     "input": [
      "plt.plot(t.ms_,u.V_);"
     ],
     "language": "python",
     "metadata": {},
     "outputs": [
      {
       "metadata": {},
       "output_type": "display_data",
       "png": "[encoded data removed]",
       "text": [
        "<matplotlib.figure.Figure at 0x73ffda0>"
       ]
      }
     ],
     "prompt_number": 16
    },
    {
     "cell_type": "markdown",
     "metadata": {},
     "source": [
      "A helper function `Qlinespace` simplifies specifying ranges:"
     ]
    },
    {
     "cell_type": "code",
     "collapsed": false,
     "input": [
      "from PhysicalQuantities.Qlinspace import Qlinspace\n",
      "t = Qlinspace(0, 10ms, 11)\n",
      "print(t)"
     ],
     "language": "python",
     "metadata": {},
     "outputs": [
      {
       "output_type": "stream",
       "stream": "stdout",
       "text": [
        "[  0.   1.   2.   3.   4.   5.   6.   7.   8.   9.  10.] ms\n"
       ]
      }
     ],
     "prompt_number": 4
    },
    {
     "cell_type": "code",
     "collapsed": false,
     "input": [
      "plot(t.ms_)"
     ],
     "language": "python",
     "metadata": {},
     "outputs": [
      {
       "metadata": {},
       "output_type": "pyout",
       "prompt_number": 6,
       "text": [
        "[<matplotlib.lines.Line2D at 0x6a6c198>]"
       ]
      },
      {
       "metadata": {},
       "output_type": "display_data",
       "png": "[encoded data removed]",
       "text": [
        "<matplotlib.figure.Figure at 0x6809128>"
       ]
      }
     ],
     "prompt_number": 6
    },
    {
     "cell_type": "code",
     "collapsed": false,
     "input": [],
     "language": "python",
     "metadata": {},
     "outputs": []
    }
   ],
   "metadata": {}
  }
 ]
}