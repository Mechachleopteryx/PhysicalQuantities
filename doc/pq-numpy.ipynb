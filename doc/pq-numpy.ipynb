{
 "metadata": {
  "name": "",
  "signature": "sha256:3a998f4ea834e33db597762548aed4fce393618118268dce9e39917e1796e550"
 },
 "nbformat": 3,
 "nbformat_minor": 0,
 "worksheets": [
  {
   "cells": [
    {
     "cell_type": "heading",
     "level": 1,
     "metadata": {},
     "source": [
      "PhysicalQuantities and Numpy"
     ]
    },
    {
     "cell_type": "markdown",
     "metadata": {},
     "source": [
      "Units can be mixed with numpy arrays:"
     ]
    },
    {
     "cell_type": "code",
     "collapsed": false,
     "input": [
      "t = np.arange(10) * 1 s\n",
      "print(t)"
     ],
     "language": "python",
     "metadata": {},
     "outputs": [
      {
       "output_type": "stream",
       "stream": "stdout",
       "text": [
        "[0 1 2 3 4 5 6 7 8 9] s\n"
       ]
      }
     ],
     "prompt_number": 2
    },
    {
     "cell_type": "markdown",
     "metadata": {},
     "source": [
      "Array indexing and slicing is supported:"
     ]
    },
    {
     "cell_type": "code",
     "collapsed": false,
     "input": [
      "print(t[1:4])\n",
      "a = np.random.rand(3,4) * 1 m\n",
      "print(a)\n",
      "print(a[2][3])"
     ],
     "language": "python",
     "metadata": {},
     "outputs": [
      {
       "output_type": "stream",
       "stream": "stdout",
       "text": [
        "[1 2 3] s\n",
        "[[ 0.19  0.66  0.21  0.93]\n",
        " [ 0.13  0.63  0.41  0.73]\n",
        " [ 0.42  0.29  0.99  0.92]] m\n",
        "0.918688437073 m\n"
       ]
      }
     ],
     "prompt_number": 3
    },
    {
     "cell_type": "markdown",
     "metadata": {},
     "source": [
      "Pretty printing Numpy arrays can be achieved using `set_printoptions`"
     ]
    },
    {
     "cell_type": "code",
     "collapsed": false,
     "input": [
      "np.set_printoptions(precision=2)\n",
      "print(a)"
     ],
     "language": "python",
     "metadata": {
      "run_control": {
       "breakpoint": false
      }
     },
     "outputs": [
      {
       "output_type": "stream",
       "stream": "stdout",
       "text": [
        "[[ 0.19  0.66  0.21  0.93]\n",
        " [ 0.13  0.63  0.41  0.73]\n",
        " [ 0.42  0.29  0.99  0.92]] m\n"
       ]
      }
     ],
     "prompt_number": 4
    },
    {
     "cell_type": "markdown",
     "metadata": {},
     "source": [
      "Prefixing units is also possible like for single values:"
     ]
    },
    {
     "cell_type": "code",
     "collapsed": false,
     "input": [
      "print(t.ms)\n",
      "print(t.ms_)"
     ],
     "language": "python",
     "metadata": {},
     "outputs": [
      {
       "output_type": "stream",
       "stream": "stdout",
       "text": [
        "[    0.  1000.  2000.  3000.  4000.  5000.  6000.  7000.  8000.  9000.] ms\n",
        "[    0.  1000.  2000.  3000.  4000.  5000.  6000.  7000.  8000.  9000.]\n"
       ]
      }
     ],
     "prompt_number": 5
    },
    {
     "cell_type": "markdown",
     "metadata": {},
     "source": [
      "A more practical example:"
     ]
    },
    {
     "cell_type": "code",
     "collapsed": false,
     "input": [
      "t = linspace(0,10, 10) * 1 ms\n",
      "f = 100 Hz\n",
      "u = np.sin(2*np.pi*f*t) * 1 V\n",
      "t,u"
     ],
     "language": "python",
     "metadata": {},
     "outputs": [
      {
       "metadata": {},
       "output_type": "pyout",
       "prompt_number": 6,
       "text": [
        "([  0.     1.11   2.22   3.33   4.44   5.56   6.67   7.78   8.89  10.  ] ms,\n",
        " [  0.00e+00   6.43e-01   9.85e-01   8.66e-01   3.42e-01  -3.42e-01\n",
        "   -8.66e-01  -9.85e-01  -6.43e-01   6.43e-16] V)"
       ]
      }
     ],
     "prompt_number": 6
    },
    {
     "cell_type": "code",
     "collapsed": false,
     "input": [
      "plt.plot(t.ms_,u.V_);"
     ],
     "language": "python",
     "metadata": {},
     "outputs": [
      {
       "metadata": {},
       "output_type": "display_data",
       "png": "[encoded data removed]",
       "text": [
        "<matplotlib.figure.Figure at 0xa2eae80>"
       ]
      }
     ],
     "prompt_number": 7
    },
    {
     "cell_type": "markdown",
     "metadata": {},
     "source": [
      "A helper function `PhysicalQuantities.linspace` simplifies specifying ranges:"
     ]
    },
    {
     "cell_type": "code",
     "collapsed": false,
     "input": [
      "t = pq.linspace(0, 10ms, 11)\n",
      "print(t)"
     ],
     "language": "python",
     "metadata": {},
     "outputs": [
      {
       "output_type": "stream",
       "stream": "stdout",
       "text": [
        "[  0.   1.   2.   3.   4.   5.   6.   7.   8.   9.  10.] ms\n"
       ]
      }
     ],
     "prompt_number": 9
    },
    {
     "cell_type": "code",
     "collapsed": false,
     "input": [
      "plot(t.ms_)"
     ],
     "language": "python",
     "metadata": {},
     "outputs": []
    },
    {
     "cell_type": "code",
     "collapsed": false,
     "input": [],
     "language": "python",
     "metadata": {},
     "outputs": []
    }
   ],
   "metadata": {}
  }
 ]
}