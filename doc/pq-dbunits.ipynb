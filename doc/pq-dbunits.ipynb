{
 "metadata": {
  "name": "",
  "signature": "sha256:d9f6b2a753400872084661237007f3096061afe6b524e42c124c3c4b74aac93f"
 },
 "nbformat": 3,
 "nbformat_minor": 0,
 "worksheets": [
  {
   "cells": [
    {
     "cell_type": "markdown",
     "metadata": {},
     "source": [
      "Back to [Index](index.ipynb)"
     ]
    },
    {
     "cell_type": "heading",
     "level": 1,
     "metadata": {
      "heading_collapsed": false
     },
     "source": [
      "PhysicalQuantities - dBUnits"
     ]
    },
    {
     "cell_type": "markdown",
     "metadata": {},
     "source": [
      "The IPython extension for dB units is loaded using\n",
      "`%load_ext PhysicalQuantities.dBUnit_ipython`"
     ]
    },
    {
     "cell_type": "code",
     "collapsed": false,
     "input": [
      "%reload_ext PhysicalQuantities.dBUnit_ipython"
     ],
     "language": "python",
     "metadata": {},
     "outputs": [],
     "prompt_number": 63
    },
    {
     "cell_type": "markdown",
     "metadata": {},
     "source": [
      "The extension provides convenient of working with dB values:"
     ]
    },
    {
     "cell_type": "code",
     "collapsed": false,
     "input": [
      "%precision 2\n",
      "p = 0 dBm\n",
      "print(p)\n",
      "print(p.dBW)\n",
      "print(p.W)"
     ],
     "language": "python",
     "metadata": {},
     "outputs": [
      {
       "output_type": "stream",
       "stream": "stdout",
       "text": [
        "0 dBm\n",
        "-30 dBW\n",
        "0.001 W\n"
       ]
      }
     ],
     "prompt_number": 62
    },
    {
     "cell_type": "markdown",
     "metadata": {},
     "source": [
      "In addition to dB scaled physical units, relative dB values can be used:"
     ]
    },
    {
     "cell_type": "code",
     "collapsed": false,
     "input": [
      "g = 3 dB\n",
      "print (p+g)"
     ],
     "language": "python",
     "metadata": {},
     "outputs": [
      {
       "output_type": "stream",
       "stream": "stdout",
       "text": [
        "3 dBm\n"
       ]
      }
     ],
     "prompt_number": 64
    },
    {
     "cell_type": "markdown",
     "metadata": {},
     "source": [
      "Conversion between units is easy using dynamic attributes:"
     ]
    },
    {
     "cell_type": "code",
     "collapsed": false,
     "input": [
      "print(p.dBW)\n",
      "print(p.dBW_)"
     ],
     "language": "python",
     "metadata": {},
     "outputs": [
      {
       "output_type": "stream",
       "stream": "stdout",
       "text": [
        "-30 dBW\n",
        "-30\n"
       ]
      }
     ],
     "prompt_number": 65
    },
    {
     "cell_type": "markdown",
     "metadata": {},
     "source": [
      "The list of available dB scaled units is shown below:"
     ]
    },
    {
     "cell_type": "code",
     "collapsed": false,
     "input": [
      "import PhysicalQuantities.dBUnit as dbu\n",
      "dbu.dB_units"
     ],
     "language": "python",
     "metadata": {},
     "outputs": [
      {
       "metadata": {},
       "output_type": "pyout",
       "prompt_number": 82,
       "text": [
        "{'dB': ('', 0, 1),\n",
        " 'dBA': ('A', 0, 20),\n",
        " 'dBV': ('V', 0, 20),\n",
        " 'dBW': ('W', 0, 10),\n",
        " 'dBd': ('', 2.15, 10),\n",
        " 'dBi': ('', 0, 10),\n",
        " 'dBm': ('W', -30, 10),\n",
        " 'dBmA': ('A', -30, 20),\n",
        " 'dBmV': ('V', -30, 20),\n",
        " 'dBnA': ('A', -90, 20),\n",
        " 'dBnV': ('V', -90, 20),\n",
        " 'dBuA': ('A', -60, 20),\n",
        " 'dBuV': ('V', -60, 20)}"
       ]
      }
     ],
     "prompt_number": 82
    },
    {
     "cell_type": "markdown",
     "metadata": {},
     "source": [
      "Manual generation looks like this:"
     ]
    },
    {
     "cell_type": "code",
     "collapsed": false,
     "input": [
      "a = dBUnit(33.,'dBm', islog=True)\n",
      "print(a)"
     ],
     "language": "python",
     "metadata": {},
     "outputs": [
      {
       "output_type": "stream",
       "stream": "stdout",
       "text": [
        "33.00 dBm\n"
       ]
      }
     ],
     "prompt_number": 67
    },
    {
     "cell_type": "code",
     "collapsed": false,
     "input": [
      "a.value, a.unit"
     ],
     "language": "python",
     "metadata": {},
     "outputs": [
      {
       "metadata": {},
       "output_type": "pyout",
       "prompt_number": 68,
       "text": [
        "(33.00, 'dBm')"
       ]
      }
     ],
     "prompt_number": 68
    },
    {
     "cell_type": "code",
     "collapsed": false,
     "input": [
      "a.W"
     ],
     "language": "python",
     "metadata": {},
     "outputs": [
      {
       "latex": [
        "2.00 $W$"
       ],
       "metadata": {},
       "output_type": "pyout",
       "prompt_number": 69,
       "text": [
        "1.99526231497 W"
       ]
      }
     ],
     "prompt_number": 69
    },
    {
     "cell_type": "markdown",
     "metadata": {},
     "source": [
      "You can work with dB-values by adding or subtracting other dB values or multiplying/dividing by a int or float number:"
     ]
    },
    {
     "cell_type": "code",
     "collapsed": false,
     "input": [
      "a = 6 dB\n",
      "print a + 1.1 dB\n",
      "print a - 1.1 dB\n",
      "print a/2\n",
      "print a\n",
      "print a*2"
     ],
     "language": "python",
     "metadata": {},
     "outputs": [
      {
       "output_type": "stream",
       "stream": "stdout",
       "text": [
        "7.10 dB\n",
        "4.90 dB\n",
        "3 dB\n",
        "6 dB\n",
        "12 dB\n"
       ]
      }
     ],
     "prompt_number": 75
    },
    {
     "cell_type": "code",
     "collapsed": false,
     "input": [],
     "language": "python",
     "metadata": {},
     "outputs": [],
     "prompt_number": 71
    }
   ],
   "metadata": {}
  }
 ]
}