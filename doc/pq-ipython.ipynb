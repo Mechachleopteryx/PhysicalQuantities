{
 "metadata": {
  "name": "",
  "signature": "sha256:9c670c660153778e9afee1049bc8ef8eb68141d6f3b008d65a7422a87c2ffe14"
 },
 "nbformat": 3,
 "nbformat_minor": 0,
 "worksheets": [
  {
   "cells": [
    {
     "cell_type": "markdown",
     "metadata": {},
     "source": [
      "Back to [Index](index.ipynb)"
     ]
    },
    {
     "cell_type": "heading",
     "level": 1,
     "metadata": {},
     "source": [
      "PhysicalQuantities - IPython Extension"
     ]
    },
    {
     "cell_type": "markdown",
     "metadata": {},
     "source": [
      "The IPython extension makes using physical quantities easier. To load the extension use:"
     ]
    },
    {
     "cell_type": "code",
     "collapsed": false,
     "input": [
      "%load_ext PhysicalQuantities.ipython"
     ],
     "language": "python",
     "metadata": {
      "run_control": {
       "breakpoint": false,
       "read_only": false
      }
     },
     "outputs": [
      {
       "output_type": "stream",
       "stream": "stdout",
       "text": [
        "The PhysicalQuantities.ipython extension is already loaded. To reload it, use:\n",
        "  %reload_ext PhysicalQuantities.ipython\n"
       ]
      }
     ],
     "prompt_number": 3
    },
    {
     "cell_type": "markdown",
     "metadata": {},
     "source": [
      "Now entering a physical quantity get's very easy:"
     ]
    },
    {
     "cell_type": "code",
     "collapsed": false,
     "input": [
      "d = 1.5 m\n",
      "t = 3s\n",
      "v = 2.3e3 m / 1s"
     ],
     "language": "python",
     "metadata": {},
     "outputs": [],
     "prompt_number": 1
    },
    {
     "cell_type": "code",
     "collapsed": false,
     "input": [
      "print(d)\n",
      "print(t)\n",
      "print(v)"
     ],
     "language": "python",
     "metadata": {},
     "outputs": [
      {
       "output_type": "stream",
       "stream": "stdout",
       "text": [
        "1.5 m\n",
        "3 s\n",
        "2300.0 m/s\n"
       ]
      }
     ],
     "prompt_number": 4
    },
    {
     "cell_type": "code",
     "collapsed": false,
     "input": [
      "t / d**2"
     ],
     "language": "python",
     "metadata": {},
     "outputs": [
      {
       "latex": [
        "1.3333333333333333 $s/m^2$ "
       ],
       "metadata": {},
       "output_type": "pyout",
       "prompt_number": 20,
       "text": [
        "1.3333333333333333 s/m^2"
       ]
      }
     ],
     "prompt_number": 20
    },
    {
     "cell_type": "heading",
     "level": 2,
     "metadata": {},
     "source": [
      "List of all defined Units:"
     ]
    },
    {
     "cell_type": "markdown",
     "metadata": {},
     "source": [
      "All predefined units can be listed using the `list()` or `html_list()` function of a unit:"
     ]
    },
    {
     "cell_type": "code",
     "collapsed": false,
     "input": [
      "a = 1m\n",
      "a.unit.html_list()"
     ],
     "language": "python",
     "metadata": {},
     "outputs": [
      {
       "html": [
        "<table><tr><th>Name</th><th>Base Unit</th><th>Quantity</th></tr><tr><td>arcsec</td><td>$  \\pi  \\cdot rad/180/3600 $</td><td><a href=\"\" target=\"_blank\">seconds of arc</a></td></tr><tr><td>K</td><td>$ K $</td><td><a href=\"\" target=\"_blank\"></a></td></tr><tr><td>F</td><td>$ C/V $</td><td><a href=\"https://en.wikipedia.org/wiki/Farad\" target=\"_blank\">Farad</a></td></tr><tr><td>V</td><td>$ W/A $</td><td><a href=\"https://en.wikipedia.org/wiki/Volt\" target=\"_blank\">Volt</a></td></tr><tr><td>deg</td><td>$  \\pi  \\cdot rad/180 $</td><td><a href=\"http://en.wikipedia.org/wiki/Degree_%28angle%29\" target=\"_blank\">Degree</a></td></tr><tr><td>A</td><td>$ A $</td><td><a href=\"\" target=\"_blank\"></a></td></tr><tr><td>sr</td><td>$ sr $</td><td><a href=\"\" target=\"_blank\"></a></td></tr><tr><td>lm</td><td>$ cd \\cdot sr $</td><td><a href=\"https://en.wikipedia.org/wiki/Lumen_(unit)\" target=\"_blank\">Lumen</a></td></tr><tr><td>W</td><td>$ J/s $</td><td><a href=\"https://en.wikipedia.org/wiki/Watt\" target=\"_blank\">Watt</a></td></tr><tr><td>g</td><td>$ g $</td><td><a href=\"\" target=\"_blank\"></a></td></tr><tr><td>Pa</td><td>$ N/m^2 $</td><td><a href=\"https://en.wikipedia.org/wiki/Pascal_(unit)\" target=\"_blank\">Pascal</a></td></tr><tr><td>rad</td><td>$ rad $</td><td><a href=\"\" target=\"_blank\"></a></td></tr><tr><td>min</td><td>$ 60 \\cdot s $</td><td><a href=\"https://en.wikipedia.org/wiki/Hour\" target=\"_blank\">Minute</a></td></tr><tr><td>kg</td><td>$ kg $</td><td><a href=\"\" target=\"_blank\"></a></td></tr><tr><td>m</td><td>$ m $</td><td><a href=\"\" target=\"_blank\"></a></td></tr><tr><td>Wb</td><td>$ V \\cdot s $</td><td><a href=\"https://en.wikipedia.org/wiki/Weber_(unit)\" target=\"_blank\">Weber</a></td></tr><tr><td>H</td><td>$ Wb/A $</td><td><a href=\"https://en.wikipedia.org/wiki/Henry_(unit)\" target=\"_blank\">Henry</a></td></tr><tr><td>h</td><td>$ 60 \\cdot 60 \\cdot s $</td><td><a href=\"https://en.wikipedia.org/wiki/Hour\" target=\"_blank\">Hour</a></td></tr><tr><td>C</td><td>$ s \\cdot A $</td><td><a href=\"https://en.wikipedia.org/wiki/Coulomb\" target=\"_blank\">Coulomb</a></td></tr><tr><td>S</td><td>$ A/V $</td><td><a href=\"https://en.wikipedia.org/wiki/Siemens_(unit)\" target=\"_blank\">Siemens</a></td></tr><tr><td>s</td><td>$ s $</td><td><a href=\"\" target=\"_blank\"></a></td></tr><tr><td>cd</td><td>$ cd $</td><td><a href=\"\" target=\"_blank\"></a></td></tr><tr><td>N</td><td>$ m \\cdot kg/s^2 $</td><td><a href=\"https://en.wikipedia.org/wiki/Newton_(unit)\" target=\"_blank\">Newton</a></td></tr><tr><td>lx</td><td>$ lm/m^2 $</td><td><a href=\"https://en.wikipedia.org/wiki/Lux\" target=\"_blank\">Lux</a></td></tr><tr><td>T</td><td>$ Wb/m^2 $</td><td><a href=\"https://en.wikipedia.org/wiki/Tesla_(unit)\" target=\"_blank\">Tesla</a></td></tr><tr><td>mol</td><td>$ mol $</td><td><a href=\"\" target=\"_blank\"></a></td></tr><tr><td>Ohm</td><td>$ V/A $</td><td><a href=\"https://en.wikipedia.org/wiki/Ohm_(unit)\" target=\"_blank\">Ohm</a></td></tr><tr><td>Hz</td><td>$ 1/s $</td><td><a href=\"https://en.wikipedia.org/wiki/Hertz\" target=\"_blank\">Hertz</a></td></tr><tr><td>J</td><td>$ N \\cdot m $</td><td><a href=\"https://en.wikipedia.org/wiki/Joule\" target=\"_blank\">Joule</a></td></tr><tr><td>arcmin</td><td>$  \\pi  \\cdot rad/180/60 $</td><td><a href=\"\" target=\"_blank\">minutes of arc</a></td></tr></table>"
       ],
       "metadata": {},
       "output_type": "pyout",
       "prompt_number": 1,
       "text": [
        "<IPython.core.display.HTML at 0x45f1cf8>"
       ]
      }
     ],
     "prompt_number": 1
    },
    {
     "cell_type": "code",
     "collapsed": false,
     "input": [],
     "language": "python",
     "metadata": {},
     "outputs": []
    }
   ],
   "metadata": {}
  }
 ]
}