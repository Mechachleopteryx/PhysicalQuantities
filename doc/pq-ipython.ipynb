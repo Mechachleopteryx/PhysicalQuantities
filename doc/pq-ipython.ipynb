{
 "metadata": {
  "name": "",
  "signature": "sha256:12ec1089fba5c763ef2dcbb39ae2a8705844b6bd743de02a779e6517894ad928"
 },
 "nbformat": 3,
 "nbformat_minor": 0,
 "worksheets": [
  {
   "cells": [
    {
     "cell_type": "markdown",
     "metadata": {},
     "source": [
      "Back to [Index](Index.ipynb)"
     ]
    },
    {
     "cell_type": "heading",
     "level": 1,
     "metadata": {},
     "source": [
      "Using PhysicalQuantities in IPython"
     ]
    },
    {
     "cell_type": "markdown",
     "metadata": {},
     "source": [
      "The IPython extension makes using physical quantities easier. To load the extension use:"
     ]
    },
    {
     "cell_type": "code",
     "collapsed": false,
     "input": [
      "%load_ext PhysicalQuantities.ipython"
     ],
     "language": "python",
     "metadata": {
      "run_control": {
       "breakpoint": false,
       "read_only": false
      }
     },
     "outputs": [
      {
       "output_type": "stream",
       "stream": "stdout",
       "text": [
        "The PhysicalQuantities.ipython extension is already loaded. To reload it, use:\n",
        "  %reload_ext PhysicalQuantities.ipython\n"
       ]
      }
     ],
     "prompt_number": 13
    },
    {
     "cell_type": "markdown",
     "metadata": {},
     "source": [
      "Now entering a physical quantities gets very easy:"
     ]
    },
    {
     "cell_type": "code",
     "collapsed": false,
     "input": [
      "d = 2.3 s**3\n",
      "t = 3 A\n",
      "v = 2.3e3 * d / t"
     ],
     "language": "python",
     "metadata": {},
     "outputs": [],
     "prompt_number": 14
    },
    {
     "cell_type": "code",
     "collapsed": false,
     "input": [
      "print(\"d = %s\" %d)\n",
      "print(\"t = %s\" %t)\n",
      "print(\"v = %s\" %v)"
     ],
     "language": "python",
     "metadata": {},
     "outputs": [
      {
       "output_type": "stream",
       "stream": "stdout",
       "text": [
        "d = 12.166999999999996 s^3\n",
        "t = 3 A\n",
        "v = 9328.033333333331 s^3/A\n"
       ]
      }
     ],
     "prompt_number": 15
    },
    {
     "cell_type": "markdown",
     "metadata": {},
     "source": [
      "**BUG:**\n",
      "Be careful when specifiying values, like this:"
     ]
    },
    {
     "cell_type": "code",
     "collapsed": false,
     "input": [
      "b = 2 m**2\n",
      "print (\"b = %s\" %b)\n",
      "b = 2* (1m)**2\n",
      "print (\"b = %s\" %b)"
     ],
     "language": "python",
     "metadata": {
      "run_control": {
       "breakpoint": false
      }
     },
     "outputs": [
      {
       "output_type": "stream",
       "stream": "stdout",
       "text": [
        "b = 4 m^2\n",
        "b = 2 m^2\n"
       ]
      }
     ],
     "prompt_number": 16
    },
    {
     "cell_type": "heading",
     "level": 2,
     "metadata": {},
     "source": [
      "Unit conversion"
     ]
    },
    {
     "cell_type": "markdown",
     "metadata": {},
     "source": [
      "The easiest way to scale a  unit is to use prefix attributes:"
     ]
    },
    {
     "cell_type": "code",
     "collapsed": false,
     "input": [
      "u = 1 V\n",
      "print(u)\n",
      "print(u.mV)\n",
      "print(u.uV)"
     ],
     "language": "python",
     "metadata": {
      "run_control": {
       "breakpoint": false
      }
     },
     "outputs": [
      {
       "output_type": "stream",
       "stream": "stdout",
       "text": [
        "1 V\n",
        "1000.0 mV\n",
        "1000000.0 uV\n"
       ]
      }
     ],
     "prompt_number": 28
    },
    {
     "cell_type": "markdown",
     "metadata": {},
     "source": [
      "To convert between different representations of a unit, `to()` can be used:"
     ]
    },
    {
     "cell_type": "code",
     "collapsed": false,
     "input": [
      "a = 1 N * 1 m\n",
      "print(a)\n",
      "print(a.to('J'))"
     ],
     "language": "python",
     "metadata": {
      "run_control": {
       "breakpoint": false
      }
     },
     "outputs": [
      {
       "output_type": "stream",
       "stream": "stdout",
       "text": [
        "1 m*N\n",
        "1.0 J\n"
       ]
      }
     ],
     "prompt_number": 30
    },
    {
     "cell_type": "heading",
     "level": 2,
     "metadata": {},
     "source": [
      "Using other value types"
     ]
    },
    {
     "cell_type": "markdown",
     "metadata": {},
     "source": [
      "The `PhysicalQuantity` class tries to be a wrapper around the value of a given quantity, i.e. not only single numbers can be used. For examples using Numpy arrays, take a look at the [Using Numpy Arrays](pq-numpy.ipynb) notebook. "
     ]
    },
    {
     "cell_type": "code",
     "collapsed": false,
     "input": [
      "u = (1 + 1j) * 1V\n",
      "print(\"u = %s\" %u)\n",
      "u = [1,2,3] * 1V\n",
      "print(\"u = %s\" %u)"
     ],
     "language": "python",
     "metadata": {
      "run_control": {
       "breakpoint": true
      }
     },
     "outputs": [
      {
       "output_type": "stream",
       "stream": "stdout",
       "text": [
        "u = (1+1j) V\n",
        "u = [1, 2, 3] V\n"
       ]
      }
     ],
     "prompt_number": 22
    },
    {
     "cell_type": "markdown",
     "metadata": {},
     "source": [
      "There is limited support for the `uncertainties` module. This should improve in the future."
     ]
    },
    {
     "cell_type": "code",
     "collapsed": false,
     "input": [
      "from uncertainties import ufloat"
     ],
     "language": "python",
     "metadata": {
      "run_control": {
       "breakpoint": false
      }
     },
     "outputs": [],
     "prompt_number": 23
    },
    {
     "cell_type": "code",
     "collapsed": false,
     "input": [
      "x = ufloat(2, 0.25) * 1 m\n",
      "x"
     ],
     "language": "python",
     "metadata": {},
     "outputs": [
      {
       "latex": [
        "2.0+/-0.25 $m$"
       ],
       "metadata": {},
       "output_type": "pyout",
       "prompt_number": 24,
       "text": [
        "2.0+/-0.25 m"
       ]
      }
     ],
     "prompt_number": 24
    },
    {
     "cell_type": "code",
     "collapsed": false,
     "input": [
      "square = x**2  # Transparent calculations\n",
      "square"
     ],
     "language": "python",
     "metadata": {},
     "outputs": [
      {
       "latex": [
        "4.0+/-1.0 $m^2$"
       ],
       "metadata": {},
       "output_type": "pyout",
       "prompt_number": 25,
       "text": [
        "4.0+/-1.0 m^2"
       ]
      }
     ],
     "prompt_number": 25
    },
    {
     "cell_type": "code",
     "collapsed": false,
     "input": [
      "square - x*x"
     ],
     "language": "python",
     "metadata": {},
     "outputs": [
      {
       "latex": [
        "0.0+/-0 $m^2$"
       ],
       "metadata": {},
       "output_type": "pyout",
       "prompt_number": 26,
       "text": [
        "0.0+/-0 m^2"
       ]
      }
     ],
     "prompt_number": 26
    },
    {
     "cell_type": "heading",
     "level": 2,
     "metadata": {},
     "source": [
      "List of all defined Units:"
     ]
    },
    {
     "cell_type": "markdown",
     "metadata": {},
     "source": [
      "All predefined units can be listed using the `list()` or `html_list()` function of a unit:\n",
      "\n",
      "**BUG:** Links for base units are missing"
     ]
    },
    {
     "cell_type": "code",
     "collapsed": false,
     "input": [
      "import PhysicalQuantities as pq\n",
      "pq.units_html_list()"
     ],
     "language": "python",
     "metadata": {},
     "outputs": [
      {
       "html": [
        "<table><tr><th>Name</th><th>Base Unit</th><th>Quantity</th></tr><tr><td>arcsec</td><td>$  \\pi  \\cdot rad/180/3600 $</td><td><a href=\"\" target=\"_blank\">seconds of arc</a></td></tr><tr><td>K</td><td>$ K $</td><td><a href=\"\" target=\"_blank\"></a></td></tr><tr><td>F</td><td>$ C/V $</td><td><a href=\"https://en.wikipedia.org/wiki/Farad\" target=\"_blank\">Farad</a></td></tr><tr><td>V</td><td>$ W/A $</td><td><a href=\"https://en.wikipedia.org/wiki/Volt\" target=\"_blank\">Volt</a></td></tr><tr><td>deg</td><td>$  \\pi  \\cdot rad/180 $</td><td><a href=\"http://en.wikipedia.org/wiki/Degree_%28angle%29\" target=\"_blank\">Degree</a></td></tr><tr><td>A</td><td>$ A $</td><td><a href=\"\" target=\"_blank\"></a></td></tr><tr><td>sr</td><td>$ sr $</td><td><a href=\"\" target=\"_blank\"></a></td></tr><tr><td>lm</td><td>$ cd \\cdot sr $</td><td><a href=\"https://en.wikipedia.org/wiki/Lumen_(unit)\" target=\"_blank\">Lumen</a></td></tr><tr><td>W</td><td>$ J/s $</td><td><a href=\"https://en.wikipedia.org/wiki/Watt\" target=\"_blank\">Watt</a></td></tr><tr><td>g</td><td>$ g $</td><td><a href=\"\" target=\"_blank\"></a></td></tr><tr><td>rad</td><td>$ rad $</td><td><a href=\"\" target=\"_blank\"></a></td></tr><tr><td>min</td><td>$ 60 \\cdot s $</td><td><a href=\"https://en.wikipedia.org/wiki/Hour\" target=\"_blank\">Minute</a></td></tr><tr><td>kg</td><td>$ kg $</td><td><a href=\"\" target=\"_blank\"></a></td></tr><tr><td>m</td><td>$ m $</td><td><a href=\"\" target=\"_blank\"></a></td></tr><tr><td>Wb</td><td>$ V \\cdot s $</td><td><a href=\"https://en.wikipedia.org/wiki/Weber_(unit)\" target=\"_blank\">Weber</a></td></tr><tr><td>H</td><td>$ Wb/A $</td><td><a href=\"https://en.wikipedia.org/wiki/Henry_(unit)\" target=\"_blank\">Henry</a></td></tr><tr><td>h</td><td>$ 60 \\cdot 60 \\cdot s $</td><td><a href=\"https://en.wikipedia.org/wiki/Hour\" target=\"_blank\">Hour</a></td></tr><tr><td>Pa</td><td>$ N/m^2 $</td><td><a href=\"https://en.wikipedia.org/wiki/Pascal_(unit)\" target=\"_blank\">Pascal</a></td></tr><tr><td>C</td><td>$ s \\cdot A $</td><td><a href=\"https://en.wikipedia.org/wiki/Coulomb\" target=\"_blank\">Coulomb</a></td></tr><tr><td>S</td><td>$ A/V $</td><td><a href=\"https://en.wikipedia.org/wiki/Siemens_(unit)\" target=\"_blank\">Siemens</a></td></tr><tr><td>s</td><td>$ s $</td><td><a href=\"\" target=\"_blank\"></a></td></tr><tr><td>cd</td><td>$ cd $</td><td><a href=\"\" target=\"_blank\"></a></td></tr><tr><td>N</td><td>$ m \\cdot kg/s^2 $</td><td><a href=\"https://en.wikipedia.org/wiki/Newton_(unit)\" target=\"_blank\">Newton</a></td></tr><tr><td>lx</td><td>$ lm/m^2 $</td><td><a href=\"https://en.wikipedia.org/wiki/Lux\" target=\"_blank\">Lux</a></td></tr><tr><td>T</td><td>$ Wb/m^2 $</td><td><a href=\"https://en.wikipedia.org/wiki/Tesla_(unit)\" target=\"_blank\">Tesla</a></td></tr><tr><td>mol</td><td>$ mol $</td><td><a href=\"\" target=\"_blank\"></a></td></tr><tr><td>Ohm</td><td>$ V/A $</td><td><a href=\"https://en.wikipedia.org/wiki/Ohm_(unit)\" target=\"_blank\">Ohm</a></td></tr><tr><td>Hz</td><td>$ 1/s $</td><td><a href=\"https://en.wikipedia.org/wiki/Hertz\" target=\"_blank\">Hertz</a></td></tr><tr><td>J</td><td>$ N \\cdot m $</td><td><a href=\"https://en.wikipedia.org/wiki/Joule\" target=\"_blank\">Joule</a></td></tr><tr><td>arcmin</td><td>$  \\pi  \\cdot rad/180/60 $</td><td><a href=\"\" target=\"_blank\">minutes of arc</a></td></tr></table>"
       ],
       "metadata": {},
       "output_type": "pyout",
       "prompt_number": 27,
       "text": [
        "<IPython.core.display.HTML object>"
       ]
      }
     ],
     "prompt_number": 27
    },
    {
     "cell_type": "code",
     "collapsed": false,
     "input": [],
     "language": "python",
     "metadata": {
      "run_control": {
       "breakpoint": false
      }
     },
     "outputs": [],
     "prompt_number": 27
    }
   ],
   "metadata": {}
  }
 ]
}