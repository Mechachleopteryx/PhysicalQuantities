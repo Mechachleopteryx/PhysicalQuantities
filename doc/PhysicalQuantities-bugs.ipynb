{
 "metadata": {
  "name": "",
  "signature": "sha256:439e96bf86a69b29f4823f78b57d01d36d51b9c58016dce76f7719d687931bd8"
 },
 "nbformat": 3,
 "nbformat_minor": 0,
 "worksheets": [
  {
   "cells": [
    {
     "cell_type": "heading",
     "level": 1,
     "metadata": {},
     "source": [
      "Known Bugs of PhysicalQuantities"
     ]
    },
    {
     "cell_type": "markdown",
     "metadata": {},
     "source": [
      " * `2 mm**2` gets expanded to `4 m^2`\n",
      " * Base units don't display their links in `units_html_list()`\n",
      " * Regex for IPython extension still fragile\n",
      " * Does not work with Python3\n",
      "   * `1/s` displayed as `s/1` because of wrong division function"
     ]
    },
    {
     "cell_type": "code",
     "collapsed": false,
     "input": [],
     "language": "python",
     "metadata": {
      "run_control": {
       "breakpoint": false
      }
     },
     "outputs": []
    }
   ],
   "metadata": {}
  }
 ]
}