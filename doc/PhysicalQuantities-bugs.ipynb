{
 "metadata": {
  "name": "",
  "signature": "sha256:ba3e7304ce5f1cab9f55eb26e4faae3a32738db723d1b10ffa5a0ab9520d940d"
 },
 "nbformat": 3,
 "nbformat_minor": 0,
 "worksheets": [
  {
   "cells": [
    {
     "cell_type": "heading",
     "level": 1,
     "metadata": {},
     "source": [
      "Known Bugs of PhysicalQuantities"
     ]
    },
    {
     "cell_type": "markdown",
     "metadata": {},
     "source": [
      " * `2 mm**2` gets expanded to `4 m^2`\n",
      " * Base units don't display their links in `units_html_list()`\n",
      " * Regex for IPython extension still fragile\n",
      " * Does not work with Python3\n",
      "   * `1/s` displayed as `s/1` because of wrong division function"
     ]
    },
    {
     "cell_type": "code",
     "collapsed": false,
     "input": [
      "axvspan(-hpbw/2, hpbw/2, facecolor='g', alpha=0.5)"
     ],
     "language": "python",
     "metadata": {
      "run_control": {
       "breakpoint": false
      }
     },
     "outputs": [
      {
       "ename": "SyntaxError",
       "evalue": "invalid syntax (<ipython-input-1-669c66f4bd96>, line 1)",
       "output_type": "pyerr",
       "traceback": [
        "\u001b[1;36m  File \u001b[1;32m\"<ipython-input-1-669c66f4bd96>\"\u001b[1;36m, line \u001b[1;32m1\u001b[0m\n\u001b[1;33m    axvspan(PhysicalQuantity(-,'h')pbw/2, hpbw/2, facecolor='g', alpha=0.5)\u001b[0m\n\u001b[1;37m                              ^\u001b[0m\n\u001b[1;31mSyntaxError\u001b[0m\u001b[1;31m:\u001b[0m invalid syntax\n"
       ]
      }
     ],
     "prompt_number": 1
    },
    {
     "cell_type": "code",
     "collapsed": false,
     "input": [],
     "language": "python",
     "metadata": {
      "run_control": {
       "breakpoint": false
      }
     },
     "outputs": []
    }
   ],
   "metadata": {}
  }
 ]
}