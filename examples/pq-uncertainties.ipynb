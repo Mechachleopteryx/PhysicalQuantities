{
 "metadata": {
  "kernelspec": {
   "codemirror_mode": {
    "name": "ipython",
    "version": 3
   },
   "display_name": "IPython (Python 3)",
   "language": "python",
   "name": "python3"
  },
  "name": "",
  "signature": "sha256:18f013d04834108d3441fbde6bdb41bc6a157d894f41e40589a9428cd375bc40"
 },
 "nbformat": 3,
 "nbformat_minor": 0,
 "worksheets": [
  {
   "cells": [
    {
     "cell_type": "heading",
     "level": 1,
     "metadata": {},
     "source": [
      "Working with Uncertainties"
     ]
    },
    {
     "cell_type": "markdown",
     "metadata": {
      "variables": {}
     },
     "source": [
      "This is still work in progress."
     ]
    },
    {
     "cell_type": "code",
     "collapsed": false,
     "input": [
      "from uncertainties import ufloat"
     ],
     "language": "python",
     "metadata": {},
     "outputs": [],
     "prompt_number": 1
    },
    {
     "cell_type": "code",
     "collapsed": false,
     "input": [
      "x = ufloat(2, 0.25) * 1 m\n",
      "x"
     ],
     "language": "python",
     "metadata": {},
     "outputs": [
      {
       "latex": [
        "2.00+/-0.25 $m$"
       ],
       "metadata": {},
       "output_type": "pyout",
       "prompt_number": 2,
       "text": [
        "2.00+/-0.25 m"
       ]
      }
     ],
     "prompt_number": 2
    },
    {
     "cell_type": "code",
     "collapsed": false,
     "input": [
      "square = x**2  # Transparent calculations\n",
      "square"
     ],
     "language": "python",
     "metadata": {},
     "outputs": [
      {
       "latex": [
        "4.0+/-1.0 $m^2$"
       ],
       "metadata": {},
       "output_type": "pyout",
       "prompt_number": 3,
       "text": [
        "4.0+/-1.0 m^2"
       ]
      }
     ],
     "prompt_number": 3
    },
    {
     "cell_type": "code",
     "collapsed": false,
     "input": [
      "square - x*x"
     ],
     "language": "python",
     "metadata": {},
     "outputs": [
      {
       "latex": [
        "0.0+/-0 $m^2$"
       ],
       "metadata": {},
       "output_type": "pyout",
       "prompt_number": 4,
       "text": [
        "0.0+/-0 m^2"
       ]
      }
     ],
     "prompt_number": 4
    },
    {
     "cell_type": "code",
     "collapsed": false,
     "input": [
      "from uncertainties.umath import *  # sin(), etc.\n",
      "x = ufloat(2, 0.25) * 35 deg\n",
      "#x = 35 deg\n",
      "#sin(x)\n",
      "#x"
     ],
     "language": "python",
     "metadata": {},
     "outputs": [],
     "prompt_number": 6
    },
    {
     "cell_type": "code",
     "collapsed": false,
     "input": [
      "x = ufloat(2, 0.25) * 1 m\n",
      "#d = (2*x).derivatives[x]  # Automatic calculation of derivatives\n",
      "#print(d)"
     ],
     "language": "python",
     "metadata": {},
     "outputs": [],
     "prompt_number": 24
    },
    {
     "cell_type": "code",
     "collapsed": false,
     "input": [
      "from uncertainties import unumpy  # Array manipulation\n",
      "random_vars = unumpy.uarray([1, 2], [0.1, 0.2]) * 1 s\n",
      "print(random_vars)"
     ],
     "language": "python",
     "metadata": {},
     "outputs": [
      {
       "output_type": "stream",
       "stream": "stdout",
       "text": [
        "[1.0+/-0.1 2.0+/-0.2] s\n"
       ]
      }
     ],
     "prompt_number": 26
    },
    {
     "cell_type": "code",
     "collapsed": false,
     "input": [
      "print(random_vars.s_.mean())"
     ],
     "language": "python",
     "metadata": {},
     "outputs": [
      {
       "output_type": "stream",
       "stream": "stdout",
       "text": [
        "1.50+/-0.11\n"
       ]
      }
     ],
     "prompt_number": 28
    },
    {
     "cell_type": "code",
     "collapsed": false,
     "input": [],
     "language": "python",
     "metadata": {},
     "outputs": []
    }
   ],
   "metadata": {}
  }
 ]
}