{
 "cells": [
  {
   "cell_type": "markdown",
   "metadata": {},
   "source": [
    "# PhysicalQuantities - Basics"
   ]
  },
  {
   "cell_type": "markdown",
   "metadata": {},
   "source": [
    "## Installation"
   ]
  },
  {
   "cell_type": "markdown",
   "metadata": {},
   "source": [
    "The PhysicalQuantities module can be installed like any other Python module:<br>\n",
    "`pip install PhysicalQuantities`"
   ]
  },
  {
   "cell_type": "markdown",
   "metadata": {},
   "source": [
    "This document describes the basic use and some internals of the Python module.\n",
    "If you are using IPython or the IPython notebook, you might want to read the other example notebooks first."
   ]
  },
  {
   "cell_type": "markdown",
   "metadata": {},
   "source": [
    "## Loading the Python Module"
   ]
  },
  {
   "cell_type": "code",
   "execution_count": 1,
   "metadata": {
    "collapsed": false
   },
   "outputs": [],
   "source": [
    "import PhysicalQuantities as pq"
   ]
  },
  {
   "cell_type": "markdown",
   "metadata": {},
   "source": [
    "You can now define physical quantities using the `PhysicalQuantity(value, unit)` constructor:"
   ]
  },
  {
   "cell_type": "code",
   "execution_count": 2,
   "metadata": {
    "collapsed": false
   },
   "outputs": [],
   "source": [
    "g = pq.PhysicalQuantity(1.1, 'm')"
   ]
  },
  {
   "cell_type": "markdown",
   "metadata": {},
   "source": [
    "or as the shortcut `Q()`:"
   ]
  },
  {
   "cell_type": "code",
   "execution_count": 3,
   "metadata": {
    "collapsed": false
   },
   "outputs": [],
   "source": [
    "g = pq.Q(1.1, 'm')"
   ]
  },
  {
   "cell_type": "markdown",
   "metadata": {},
   "source": [
    "This creates a new `PhysicalQuantity` object:"
   ]
  },
  {
   "cell_type": "code",
   "execution_count": 4,
   "metadata": {
    "collapsed": false
   },
   "outputs": [
    {
     "name": "stdout",
     "output_type": "stream",
     "text": [
      "object: 1.1 m\n",
      "object type : <class 'PhysicalQuantities.Quantity.PhysicalQuantity'>\n"
     ]
    }
   ],
   "source": [
    "print(\"object: %s\" % g)\n",
    "print(\"object type : %s\" % type(g))"
   ]
  },
  {
   "cell_type": "markdown",
   "metadata": {},
   "source": [
    "The value and unit are stored as attributes of the class:"
   ]
  },
  {
   "cell_type": "code",
   "execution_count": 5,
   "metadata": {
    "collapsed": false
   },
   "outputs": [
    {
     "name": "stdout",
     "output_type": "stream",
     "text": [
      "value: 1.1\n",
      "value type: <class 'float'>\n",
      "unit: m\n",
      "unit type: <class 'PhysicalQuantities.Unit.PhysicalUnit'>\n"
     ]
    }
   ],
   "source": [
    "print(\"value: %s\" % g.value)\n",
    "print(\"value type: %s\" % type(g.value))\n",
    "print(\"unit: %s\" % g.unit)\n",
    "print(\"unit type: %s\" % type(g.unit))"
   ]
  },
  {
   "cell_type": "markdown",
   "metadata": {},
   "source": [
    "Using `.to()` let's you convert to other representations of the unit. This can be used for scaling or to express the quantity in a derived unit. The `.base` property will convert "
   ]
  },
  {
   "cell_type": "code",
   "execution_count": 6,
   "metadata": {
    "collapsed": false
   },
   "outputs": [
    {
     "name": "stdout",
     "output_type": "stream",
     "text": [
      "g = 1.1 m\n",
      "g in mm = 1100.0 mm\n",
      "x = 2 m*kg/s^2\n",
      "x in N = 2.0 N\n",
      "u = 1 V\n",
      "u in base units = 1.0 m^2*kg/s^3/A\n"
     ]
    }
   ],
   "source": [
    "g = pq.PhysicalQuantity(1.1, 'm')\n",
    "print(\"g = %s\" % g)\n",
    "print(\"g in mm = %s\" %g.to('mm'))\n",
    "x = pq.PhysicalQuantity(2, 'm*kg/s**2')\n",
    "print(\"x = %s\" %x)\n",
    "print(\"x in N = %s\" % x.to('N'))\n",
    "u = 1 V\n",
    "print(\"u = %s\" %u)\n",
    "print(\"u in base units = %s\" %u.base)"
   ]
  },
  {
   "cell_type": "markdown",
   "metadata": {},
   "source": [
    "Scaling of simple units is easy using scaling attributes:"
   ]
  },
  {
   "cell_type": "code",
   "execution_count": 7,
   "metadata": {
    "collapsed": false
   },
   "outputs": [
    {
     "name": "stdout",
     "output_type": "stream",
     "text": [
      "1100000000.0 nm\n",
      "1100000.0 um\n",
      "1100.0 mm\n",
      "110.00000000000001 cm\n",
      "1.1 m\n",
      "0.0011 km\n"
     ]
    }
   ],
   "source": [
    "print(g.nm)\n",
    "print(g.um)\n",
    "print(g.mm)\n",
    "print(g.cm)\n",
    "print(g.m)\n",
    "print(g.km)"
   ]
  },
  {
   "cell_type": "markdown",
   "metadata": {},
   "source": [
    "The physical quantity can converted back to a unitless value using the underscore `_` with the scaling attribute:"
   ]
  },
  {
   "cell_type": "code",
   "execution_count": 8,
   "metadata": {
    "collapsed": false
   },
   "outputs": [
    {
     "name": "stdout",
     "output_type": "stream",
     "text": [
      "1100000000.0\n",
      "1100000.0\n",
      "1100.0\n",
      "110.00000000000001\n",
      "1.1\n",
      "0.0011\n"
     ]
    }
   ],
   "source": [
    "print(g.nm_)\n",
    "print(g.um_)\n",
    "print(g.mm_)\n",
    "print(g.cm_)\n",
    "print(g.m_)\n",
    "print(g.km_)"
   ]
  },
  {
   "cell_type": "markdown",
   "metadata": {},
   "source": [
    "## Internal Representation"
   ]
  },
  {
   "cell_type": "markdown",
   "metadata": {},
   "source": [
    "Internally, a physical quantity is represented using two classes:\n",
    " * `PhysicalQuantity` holding the value and the unit\n",
    " * `PhysicalUnit` describing the unit"
   ]
  },
  {
   "cell_type": "code",
   "execution_count": 9,
   "metadata": {
    "collapsed": false
   },
   "outputs": [
    {
     "data": {
      "text/plain": [
       "[1, 2, 3]"
      ]
     },
     "execution_count": 9,
     "metadata": {},
     "output_type": "execute_result"
    }
   ],
   "source": [
    "a = pq.Q([1,2,3], 'm**2*s**3/A**2/kg')\n",
    "a.value"
   ]
  },
  {
   "cell_type": "markdown",
   "metadata": {},
   "source": [
    "The `value` attribute is basically only a container, allowing different types of values. Tested types are:\n",
    " * integers\n",
    " * floats\n",
    " * complex numbers\n",
    " * uncertainties\n",
    " * numpy arrays\n",
    " * lists"
   ]
  },
  {
   "cell_type": "code",
   "execution_count": 10,
   "metadata": {
    "collapsed": false
   },
   "outputs": [
    {
     "data": {
      "text/latex": [
       "\\frac{\\text{s}^{3}\\cdot \\text{m}^{2}}{\\text{kg}\\cdot \\text{A}^2}"
      ],
      "text/markdown": [
       "$\\frac{\\text{s}^{3}\\cdot \\text{m}^{2}}{\\text{kg}\\cdot \\text{A}^2}$"
      ],
      "text/plain": [
       "<PhysicalUnit s**3*m**2/kg/A**2>"
      ]
     },
     "execution_count": 10,
     "metadata": {},
     "output_type": "execute_result"
    }
   ],
   "source": [
    "a.unit"
   ]
  },
  {
   "cell_type": "code",
   "execution_count": 11,
   "metadata": {
    "collapsed": false,
    "run_control": {
     "breakpoint": false
    }
   },
   "outputs": [
    {
     "data": {
      "text/plain": [
       "PhysicalQuantities.Unit.PhysicalUnit"
      ]
     },
     "execution_count": 11,
     "metadata": {},
     "output_type": "execute_result"
    }
   ],
   "source": [
    "type(a.unit)"
   ]
  },
  {
   "cell_type": "markdown",
   "metadata": {},
   "source": [
    "The unit is stored in a `PhysicalUnit` class. This class has a number of attributes:\n",
    " * `factor` - scaling factor from base units\n",
    " * `powers` - list of base units contained in unit\n",
    " * `prefixed` - unit is a scaled version of a base unit"
   ]
  },
  {
   "cell_type": "code",
   "execution_count": 12,
   "metadata": {
    "collapsed": false
   },
   "outputs": [
    {
     "data": {
      "text/plain": [
       "(0.001, True)"
      ]
     },
     "execution_count": 12,
     "metadata": {},
     "output_type": "execute_result"
    }
   ],
   "source": [
    "pq.Q(1,'mm').unit.factor, pq.Q(1,'mm').unit.prefixed"
   ]
  },
  {
   "cell_type": "code",
   "execution_count": 13,
   "metadata": {
    "collapsed": false,
    "run_control": {
     "breakpoint": false
    }
   },
   "outputs": [
    {
     "name": "stdout",
     "output_type": "stream",
     "text": [
      "['m', 'kg', 's', 'A', 'K', 'mol', 'cd', 'rad', 'sr']\n",
      "[2, -1, 3, -2, 0, 0, 0, 0, 0]\n",
      "s^3*m^2/kg/A^2\n"
     ]
    }
   ],
   "source": [
    "print(pq.base_names) # list of base units\n",
    "print(a.unit.powers)\n",
    "print(a.unit)"
   ]
  },
  {
   "cell_type": "code",
   "execution_count": null,
   "metadata": {
    "collapsed": false,
    "run_control": {
     "breakpoint": false
    }
   },
   "outputs": [],
   "source": []
  }
 ],
 "metadata": {
  "kernelspec": {
   "display_name": "Python 3",
   "language": "python",
   "name": "python3"
  },
  "language_info": {
   "codemirror_mode": {
    "name": "ipython",
    "version": 3
   },
   "file_extension": ".py",
   "mimetype": "text/x-python",
   "name": "python",
   "nbconvert_exporter": "python",
   "pygments_lexer": "ipython3",
   "version": "3.4.3"
  }
 },
 "nbformat": 4,
 "nbformat_minor": 0
}
