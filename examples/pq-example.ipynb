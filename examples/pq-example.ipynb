{
 "metadata": {
  "kernelspec": {
   "codemirror_mode": {
    "name": "ipython",
    "version": 3
   },
   "display_name": "IPython (Python 3)",
   "language": "python",
   "name": "python3"
  },
  "name": "",
  "signature": "sha256:301fef10f2ce10e428fc8d1a039f77e45e562d71c648ffc06a012b1d3b7f7b72"
 },
 "nbformat": 3,
 "nbformat_minor": 0,
 "worksheets": [
  {
   "cells": [
    {
     "cell_type": "heading",
     "level": 1,
     "metadata": {},
     "source": [
      "Example: Calculating an RC Circuit"
     ]
    },
    {
     "cell_type": "code",
     "collapsed": false,
     "input": [
      "# Imports\n",
      "import PhysicalQuantities as pq\n",
      "%load_ext PhysicalQuantities.ipython\n",
      "from PhysicalQuantities.constants import eps0\n",
      "%precision 2\n",
      "from IPython.display import display, Math, Latex\n",
      "def disp(str):\n",
      "    display(Latex(str))  "
     ],
     "language": "python",
     "metadata": {
      "code_folding": [],
      "run_control": {
       "breakpoint": false
      }
     },
     "outputs": [
      {
       "output_type": "stream",
       "stream": "stdout",
       "text": [
        "The PhysicalQuantities.ipython extension is already loaded. To reload it, use:\n",
        "  %reload_ext PhysicalQuantities.ipython\n"
       ]
      }
     ],
     "prompt_number": 16
    },
    {
     "cell_type": "markdown",
     "metadata": {
      "variables": {}
     },
     "source": [
      "We have a simple RC circuit, consisting of a voltage source $U_0$, a resistor with a value $R$ and a capacitor with value $C$:"
     ]
    },
    {
     "cell_type": "markdown",
     "metadata": {
      "variables": {}
     },
     "source": [
      "<img  src=\"/notebooks/PhysicalQuantities/images/rc.png\"/>"
     ]
    },
    {
     "cell_type": "markdown",
     "metadata": {
      "variables": {}
     },
     "source": [
      "Let's start with calculating the capacitance of a simple parallel plate capacitor:"
     ]
    },
    {
     "cell_type": "code",
     "collapsed": false,
     "input": [
      "A = 1 mm * 1 mm # Plate area\n",
      "d = 1 um        # Plate distance\n",
      "eps_r = 3       # Permittivity of dielectric material\n",
      "C  = (eps0*eps_r*A) / d\n",
      "disp(\"Capacitor value $C$ = %s\" % C.pF)"
     ],
     "language": "python",
     "metadata": {
      "run_control": {
       "breakpoint": false
      }
     },
     "outputs": [
      {
       "latex": [
        "Capacitor value $C$ = 26.56 pF"
       ],
       "metadata": {},
       "output_type": "display_data",
       "text": [
        "<IPython.core.display.Latex object>"
       ]
      }
     ],
     "prompt_number": 17
    },
    {
     "cell_type": "markdown",
     "metadata": {
      "variables": {}
     },
     "source": [
      "The resistor is a thick film resistor:"
     ]
    },
    {
     "cell_type": "code",
     "collapsed": false,
     "input": [
      "rho = 10 Ohm * 1 mm # Material resistivity\n",
      "t = 10 um           # Sheet thickness\n",
      "L = 150 um          # Structure length\n",
      "W = 10 um           # Structure width\n",
      "Rs = rho / t \n",
      "R = Rs * L / W\n",
      "disp(\"Resistor value $R$ = %s\" % R.kOhm)"
     ],
     "language": "python",
     "metadata": {
      "run_control": {
       "breakpoint": false
      }
     },
     "outputs": [
      {
       "latex": [
        "Resistor value $R$ = 15.00 kOhm"
       ],
       "metadata": {},
       "output_type": "display_data",
       "text": [
        "<IPython.core.display.Latex object>"
       ]
      }
     ],
     "prompt_number": 18
    },
    {
     "cell_type": "heading",
     "level": 2,
     "metadata": {},
     "source": [
      "Calculate transient response of circuit"
     ]
    },
    {
     "cell_type": "code",
     "collapsed": false,
     "input": [
      "u0 = 1. V\n",
      "tau = 1/(R*C)\n",
      "t = pq.linspace(0,4/tau,100).us"
     ],
     "language": "python",
     "metadata": {
      "run_control": {
       "breakpoint": false
      }
     },
     "outputs": [],
     "prompt_number": 32
    },
    {
     "cell_type": "code",
     "collapsed": false,
     "input": [
      "i0 = u0/R\n",
      "i = (i0*e**(-t*tau)).uA\n",
      "disp(\"Initial current is $i_0$ = %s\" % i0.uA)"
     ],
     "language": "python",
     "metadata": {
      "run_control": {
       "breakpoint": false
      }
     },
     "outputs": [
      {
       "latex": [
        "Initial current is $i_0$ = 66.67 uA"
       ],
       "metadata": {},
       "output_type": "display_data",
       "text": [
        "<IPython.core.display.Latex object>"
       ]
      }
     ],
     "prompt_number": 46
    },
    {
     "cell_type": "heading",
     "level": 2,
     "metadata": {},
     "source": [
      "Plot Current and Voltage over Time"
     ]
    },
    {
     "cell_type": "code",
     "collapsed": false,
     "input": [
      "plot(t.us_,i.uA_)\n",
      "grid()\n",
      "title('Circuit Current')\n",
      "xlabel('Time in %s' % t.unit._repr_latex_())\n",
      "ylabel('Current in %s' %  i.unit._repr_latex_());"
     ],
     "language": "python",
     "metadata": {
      "run_control": {
       "breakpoint": false
      }
     },
     "outputs": [
      {
       "metadata": {},
       "output_type": "display_data",
       "png": "[encoded data removed]",
       "text": [
        "<matplotlib.figure.Figure at 0x64ad668>"
       ]
      }
     ],
     "prompt_number": 49
    },
    {
     "cell_type": "code",
     "collapsed": false,
     "input": [
      "uc = u0 - i*R\n",
      "plot(uc.V_)\n",
      "title('Capacitor Voltage')\n",
      "grid()\n",
      "xlabel('Time in $\\mu s$')\n",
      "ylabel('Voltage in $V$');"
     ],
     "language": "python",
     "metadata": {
      "run_control": {
       "breakpoint": false
      }
     },
     "outputs": [
      {
       "metadata": {},
       "output_type": "display_data",
       "png": "[encoded data removed]",
       "text": [
        "<matplotlib.figure.Figure at 0x7bbf780>"
       ]
      }
     ],
     "prompt_number": 22
    },
    {
     "cell_type": "code",
     "collapsed": false,
     "input": [],
     "language": "python",
     "metadata": {},
     "outputs": []
    }
   ],
   "metadata": {}
  }
 ]
}