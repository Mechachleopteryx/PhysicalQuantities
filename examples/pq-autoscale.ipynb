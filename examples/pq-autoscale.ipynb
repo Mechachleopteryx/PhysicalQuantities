{
 "metadata": {
  "kernelspec": {
   "codemirror_mode": {
    "name": "ipython",
    "version": 3
   },
   "display_name": "IPython (Python 3)",
   "language": "python",
   "name": "python3"
  },
  "name": "",
  "signature": "sha256:2602f7a5861ad026a490565cc0a3b34fe8a47a700d54fc5b5670cc41a5e589c6"
 },
 "nbformat": 3,
 "nbformat_minor": 0,
 "worksheets": [
  {
   "cells": [
    {
     "cell_type": "heading",
     "level": 1,
     "metadata": {},
     "source": [
      "Autoscaling units"
     ]
    },
    {
     "cell_type": "markdown",
     "metadata": {
      "variables": {}
     },
     "source": [
      "Using the `autoscale()` method, quantities can be automatically scaled:"
     ]
    },
    {
     "cell_type": "code",
     "collapsed": false,
     "input": [
      "a = 1e-3 m\n",
      "a.autoscale()"
     ],
     "language": "python",
     "metadata": {},
     "outputs": [
      {
       "latex": [
        "1.0 $mm$"
       ],
       "metadata": {},
       "output_type": "pyout",
       "prompt_number": 1,
       "text": [
        "1.0 mm"
       ]
      }
     ],
     "prompt_number": 1
    },
    {
     "cell_type": "code",
     "collapsed": false,
     "input": [
      "a = 0.0003 s \n",
      "a.autoscale()"
     ],
     "language": "python",
     "metadata": {},
     "outputs": [
      {
       "latex": [
        "300.0 $\\mu s$"
       ],
       "metadata": {},
       "output_type": "pyout",
       "prompt_number": 2,
       "text": [
        "300.0 us"
       ]
      }
     ],
     "prompt_number": 2
    },
    {
     "cell_type": "code",
     "collapsed": false,
     "input": [
      "a = 1.0m\n",
      "a.autoscale()"
     ],
     "language": "python",
     "metadata": {},
     "outputs": [
      {
       "latex": [
        "1.0 $m$"
       ],
       "metadata": {},
       "output_type": "pyout",
       "prompt_number": 3,
       "text": [
        "1.0 m"
       ]
      }
     ],
     "prompt_number": 3
    }
   ],
   "metadata": {}
  }
 ]
}