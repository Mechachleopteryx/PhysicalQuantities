{
 "metadata": {
  "kernelspec": {
   "codemirror_mode": {
    "name": "ipython",
    "version": 3
   },
   "display_name": "IPython (Python 3)",
   "language": "python",
   "name": "python3"
  },
  "name": "",
  "signature": "sha256:f565ac8279bc62ba1c1f54bebf723943eb091b5751fc532a1ab5684e55c57dcf"
 },
 "nbformat": 3,
 "nbformat_minor": 0,
 "worksheets": [
  {
   "cells": [
    {
     "cell_type": "heading",
     "level": 1,
     "metadata": {},
     "source": [
      "Output Formatting in IPython"
     ]
    },
    {
     "cell_type": "markdown",
     "metadata": {
      "variables": {}
     },
     "source": [
      "Sometimes numerical calculation results don't look too pretty:"
     ]
    },
    {
     "cell_type": "code",
     "collapsed": false,
     "input": [
      "a = 7./3 m \n",
      "a"
     ],
     "language": "python",
     "metadata": {},
     "outputs": [
      {
       "latex": [
        "2.3333333333333335 $1/m$"
       ],
       "metadata": {},
       "output_type": "pyout",
       "prompt_number": 1,
       "text": [
        "2.3333333333333335 1/m"
       ]
      }
     ],
     "prompt_number": 1
    },
    {
     "cell_type": "heading",
     "level": 2,
     "metadata": {},
     "source": [
      "IPython Magic"
     ]
    },
    {
     "cell_type": "markdown",
     "metadata": {
      "variables": {}
     },
     "source": [
      "Using the IPython `%precision` magic, the displayed result can be made prettier:"
     ]
    },
    {
     "cell_type": "code",
     "collapsed": false,
     "input": [
      "%precision 1\n",
      "a"
     ],
     "language": "python",
     "metadata": {},
     "outputs": [
      {
       "latex": [
        "2.3 $1/m$"
       ],
       "metadata": {},
       "output_type": "pyout",
       "prompt_number": 2,
       "text": [
        "2.3 1/m"
       ]
      }
     ],
     "prompt_number": 2
    },
    {
     "cell_type": "markdown",
     "metadata": {
      "variables": {}
     },
     "source": [
      "The magic also works for Numpy arrays:"
     ]
    },
    {
     "cell_type": "code",
     "collapsed": false,
     "input": [
      "b = np.array([1.234, 3.456])\n",
      "b"
     ],
     "language": "python",
     "metadata": {
      "run_control": {
       "breakpoint": false
      }
     },
     "outputs": [
      {
       "metadata": {},
       "output_type": "pyout",
       "prompt_number": 3,
       "text": [
        "array([ 1.2,  3.5])"
       ]
      }
     ],
     "prompt_number": 3
    },
    {
     "cell_type": "markdown",
     "metadata": {
      "variables": {}
     },
     "source": [
      "The documentation for the `%precision` magic can be found here: [link](http://ipython.org/ipython-doc/dev/api/generated/IPython.core.magics.basic.html#IPython.core.magics.basic.BasicMagics.precision)"
     ]
    },
    {
     "cell_type": "heading",
     "level": 2,
     "metadata": {},
     "source": [
      "Custom Formatting"
     ]
    },
    {
     "cell_type": "markdown",
     "metadata": {
      "variables": {}
     },
     "source": [
      "The `%precision` magic can be overridden individually for float quantities, using the `.format` property of the `PhysicalQuantity` class.\n",
      "**Attention** The `format` property is taking Python `formatter` arguments."
     ]
    },
    {
     "cell_type": "code",
     "collapsed": false,
     "input": [
      "a.format # default"
     ],
     "language": "python",
     "metadata": {
      "run_control": {
       "breakpoint": false
      }
     },
     "outputs": [
      {
       "metadata": {},
       "output_type": "pyout",
       "prompt_number": 4,
       "text": [
        "''"
       ]
      }
     ],
     "prompt_number": 4
    },
    {
     "cell_type": "code",
     "collapsed": false,
     "input": [
      "a.format = '.2'\n",
      "a"
     ],
     "language": "python",
     "metadata": {
      "run_control": {
       "breakpoint": false
      }
     },
     "outputs": [
      {
       "latex": [
        "2.3 $1/m$"
       ],
       "metadata": {},
       "output_type": "pyout",
       "prompt_number": 5,
       "text": [
        "2.3 1/m"
       ]
      }
     ],
     "prompt_number": 5
    },
    {
     "cell_type": "heading",
     "level": 2,
     "metadata": {},
     "source": [
      "Printing Output with Quantities"
     ]
    },
    {
     "cell_type": "code",
     "collapsed": false,
     "input": [
      "a=1.23456 mm\n",
      "print(a)\n",
      "print(\"{:.2}\".format(a))\n",
      "print(\"%s\" % a)\n",
      "print(\"%f\" % a) # this returns base unit: m\n",
      "print(\"%.2f\" % a.mm_)"
     ],
     "language": "python",
     "metadata": {
      "run_control": {
       "breakpoint": false
      }
     },
     "outputs": [
      {
       "output_type": "stream",
       "stream": "stdout",
       "text": [
        "1.2 mm\n",
        "1.2 mm\n",
        "1.2 mm\n",
        "0.001235\n",
        "1.23\n"
       ]
      }
     ],
     "prompt_number": 6
    },
    {
     "cell_type": "markdown",
     "metadata": {
      "variables": {}
     },
     "source": [
      "Another way to display quantities is using the `Latex` function. Unfortunately, mixing math equations and Python's `.format()` needs a little trick because of the `{}`brackets."
     ]
    },
    {
     "cell_type": "code",
     "collapsed": false,
     "input": [
      "from IPython.display import display, Math, Latex\n",
      "def disp(str):\n",
      "    display(Latex(str))    \n",
      "v = 1.234567 m\n",
      "disp(\"$v_{min}$ is %s\" %v)\n",
      "disp(\"$v_{min}$ is \"+\"{:.2f}\".format(v))\n",
      "disp(\"$v_{min}$ is %s\" % (\"{:.2f}\".format(v))) # Alternatively"
     ],
     "language": "python",
     "metadata": {
      "run_control": {
       "breakpoint": false
      }
     },
     "outputs": [
      {
       "latex": [
        "$v_{min}$ is 1.2 m"
       ],
       "metadata": {},
       "output_type": "display_data",
       "text": [
        "<IPython.core.display.Latex object>"
       ]
      },
      {
       "latex": [
        "$v_{min}$ is 1.23 m"
       ],
       "metadata": {},
       "output_type": "display_data",
       "text": [
        "<IPython.core.display.Latex object>"
       ]
      },
      {
       "latex": [
        "$v_{min}$ is 1.23 m"
       ],
       "metadata": {},
       "output_type": "display_data",
       "text": [
        "<IPython.core.display.Latex object>"
       ]
      }
     ],
     "prompt_number": 7
    }
   ],
   "metadata": {}
  }
 ]
}